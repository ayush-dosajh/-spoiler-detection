{
 "cells": [
  {
   "cell_type": "code",
   "execution_count": 1,
   "metadata": {},
   "outputs": [],
   "source": [
    "import pandas as pd"
   ]
  },
  {
   "cell_type": "code",
   "execution_count": 3,
   "metadata": {},
   "outputs": [],
   "source": [
    "import pandas as pd\n",
    "import bs4 as bs\n",
    "import urllib.request\n",
    "import csv\n",
    "import requests\n",
    "import re\n",
    "from urllib.request import urlopen\n",
    "from urllib.error import HTTPError"
   ]
  },
  {
   "cell_type": "code",
   "execution_count": 1,
   "metadata": {},
   "outputs": [
    {
     "name": "stdout",
     "output_type": "stream",
     "text": [
      "Collecting ijson\n",
      "  Downloading ijson-3.1.4-cp39-cp39-win_amd64.whl (48 kB)\n",
      "     ---------------------------------------- 48.9/48.9 KB 2.6 MB/s eta 0:00:00\n",
      "Installing collected packages: ijson\n",
      "Successfully installed ijson-3.1.4\n"
     ]
    },
    {
     "name": "stderr",
     "output_type": "stream",
     "text": [
      "WARNING: You are using pip version 22.0.4; however, version 22.1 is available.\n",
      "You should consider upgrading via the 'C:\\Users\\ayush\\AppData\\Local\\Microsoft\\WindowsApps\\PythonSoftwareFoundation.Python.3.9_qbz5n2kfra8p0\\python.exe -m pip install --upgrade pip' command.\n"
     ]
    }
   ],
   "source": [
    "!pip install ijson"
   ]
  },
  {
   "cell_type": "code",
   "execution_count": 2,
   "metadata": {},
   "outputs": [],
   "source": [
    "import json\n",
    "import ijson"
   ]
  },
  {
   "cell_type": "code",
   "execution_count": 3,
   "metadata": {},
   "outputs": [],
   "source": [
    "import json\n",
    "\n",
    "\n",
    "with open('goodreads_reviews_spoiler.json') as json_file:      \n",
    "    data = json_file.readlines()\n",
    "    # this line below may take at least 8-10 minutes of processing for 4-5 million rows. It converts all strings in list to actual json objects. \n",
    "    data = list(map(json.loads, data)) "
   ]
  },
  {
   "cell_type": "code",
   "execution_count": 6,
   "metadata": {},
   "outputs": [],
   "source": [
    "df = pd.DataFrame(data)"
   ]
  },
  {
   "cell_type": "code",
   "execution_count": 11,
   "metadata": {},
   "outputs": [
    {
     "data": {
      "text/plain": [
       "'18245960'"
      ]
     },
     "execution_count": 11,
     "metadata": {},
     "output_type": "execute_result"
    }
   ],
   "source": []
  },
  {
   "cell_type": "code",
   "execution_count": 24,
   "metadata": {},
   "outputs": [],
   "source": [
    "data = []\n",
    "book_checked = []\n",
    "with open('goodreads_books.json', encoding='latin-1') as f:\n",
    "    for line in f:\n",
    "        doc = json.loads(line)\n",
    "        try:\n",
    "            if(doc['book_id'] in books):\n",
    "                if(doc['book_id']  in book_checked):\n",
    "                    continue\n",
    "                else:\n",
    "                    book_checked.append(doc['book_id'])\n",
    "                    lst = [doc['book_id'] , doc['popular_shelves'], doc['description'] , doc['publication_year'], doc['ratings_count'] ]\n",
    "                    data.append(lst)\n",
    "        except:\n",
    "            print('some issue' , doc)\n",
    "        \n",
    "            "
   ]
  },
  {
   "cell_type": "code",
   "execution_count": 25,
   "metadata": {},
   "outputs": [],
   "source": [
    "cols = ['book_id', 'genre', 'description' , 'publication_year' ,'ratings_count' ]\n",
    "df2 = pd.DataFrame(data=data, columns=cols)"
   ]
  },
  {
   "cell_type": "code",
   "execution_count": 26,
   "metadata": {},
   "outputs": [
    {
     "data": {
      "text/html": [
       "<div>\n",
       "<style scoped>\n",
       "    .dataframe tbody tr th:only-of-type {\n",
       "        vertical-align: middle;\n",
       "    }\n",
       "\n",
       "    .dataframe tbody tr th {\n",
       "        vertical-align: top;\n",
       "    }\n",
       "\n",
       "    .dataframe thead th {\n",
       "        text-align: right;\n",
       "    }\n",
       "</style>\n",
       "<table border=\"1\" class=\"dataframe\">\n",
       "  <thead>\n",
       "    <tr style=\"text-align: right;\">\n",
       "      <th></th>\n",
       "      <th>book_id</th>\n",
       "      <th>genre</th>\n",
       "      <th>description</th>\n",
       "      <th>publication_year</th>\n",
       "      <th>ratings_count</th>\n",
       "    </tr>\n",
       "  </thead>\n",
       "  <tbody>\n",
       "    <tr>\n",
       "      <th>0</th>\n",
       "      <td>22642971</td>\n",
       "      <td>[{'count': '9481', 'name': 'to-read'}, {'count...</td>\n",
       "      <td>The future world is at peace.\\nElla Shepherd h...</td>\n",
       "      <td>2014</td>\n",
       "      <td>1525</td>\n",
       "    </tr>\n",
       "    <tr>\n",
       "      <th>1</th>\n",
       "      <td>32336119</td>\n",
       "      <td>[{'count': '1755', 'name': 'to-read'}, {'count...</td>\n",
       "      <td>Ready or not...love will find a way \\nSingle d...</td>\n",
       "      <td>2017</td>\n",
       "      <td>693</td>\n",
       "    </tr>\n",
       "    <tr>\n",
       "      <th>2</th>\n",
       "      <td>2741853</td>\n",
       "      <td>[{'count': '2472', 'name': 'to-read'}, {'count...</td>\n",
       "      <td>This is Maddy Turner's lucky day. The civilize...</td>\n",
       "      <td>2008</td>\n",
       "      <td>3852</td>\n",
       "    </tr>\n",
       "    <tr>\n",
       "      <th>3</th>\n",
       "      <td>12077902</td>\n",
       "      <td>[{'count': '34042', 'name': 'to-read'}, {'coun...</td>\n",
       "      <td>A classic work of science fiction by renowned ...</td>\n",
       "      <td>2011</td>\n",
       "      <td>252</td>\n",
       "    </tr>\n",
       "    <tr>\n",
       "      <th>4</th>\n",
       "      <td>7843586</td>\n",
       "      <td>[{'count': '676', 'name': 'to-read'}, {'count'...</td>\n",
       "      <td>After a series of explosive encounters with tw...</td>\n",
       "      <td>2010</td>\n",
       "      <td>1675</td>\n",
       "    </tr>\n",
       "  </tbody>\n",
       "</table>\n",
       "</div>"
      ],
      "text/plain": [
       "    book_id                                              genre  \\\n",
       "0  22642971  [{'count': '9481', 'name': 'to-read'}, {'count...   \n",
       "1  32336119  [{'count': '1755', 'name': 'to-read'}, {'count...   \n",
       "2   2741853  [{'count': '2472', 'name': 'to-read'}, {'count...   \n",
       "3  12077902  [{'count': '34042', 'name': 'to-read'}, {'coun...   \n",
       "4   7843586  [{'count': '676', 'name': 'to-read'}, {'count'...   \n",
       "\n",
       "                                         description publication_year  \\\n",
       "0  The future world is at peace.\\nElla Shepherd h...             2014   \n",
       "1  Ready or not...love will find a way \\nSingle d...             2017   \n",
       "2  This is Maddy Turner's lucky day. The civilize...             2008   \n",
       "3  A classic work of science fiction by renowned ...             2011   \n",
       "4  After a series of explosive encounters with tw...             2010   \n",
       "\n",
       "  ratings_count  \n",
       "0          1525  \n",
       "1           693  \n",
       "2          3852  \n",
       "3           252  \n",
       "4          1675  "
      ]
     },
     "execution_count": 26,
     "metadata": {},
     "output_type": "execute_result"
    }
   ],
   "source": [
    "df2.head()"
   ]
  },
  {
   "cell_type": "code",
   "execution_count": 29,
   "metadata": {},
   "outputs": [],
   "source": [
    "def func(x):\n",
    "    for i in x:\n",
    "        if('read' in i['name'] or 'fav' in i['name'] ):\n",
    "            continue\n",
    "        else:\n",
    "            return i['name']"
   ]
  },
  {
   "cell_type": "code",
   "execution_count": 33,
   "metadata": {},
   "outputs": [],
   "source": [
    "df2['genre'] = df2['genre'].apply(func )"
   ]
  },
  {
   "cell_type": "code",
   "execution_count": 40,
   "metadata": {},
   "outputs": [],
   "source": [
    "df2.to_csv('save_books.csv')"
   ]
  },
  {
   "cell_type": "code",
   "execution_count": 41,
   "metadata": {},
   "outputs": [
    {
     "data": {
      "text/html": [
       "<div>\n",
       "<style scoped>\n",
       "    .dataframe tbody tr th:only-of-type {\n",
       "        vertical-align: middle;\n",
       "    }\n",
       "\n",
       "    .dataframe tbody tr th {\n",
       "        vertical-align: top;\n",
       "    }\n",
       "\n",
       "    .dataframe thead th {\n",
       "        text-align: right;\n",
       "    }\n",
       "</style>\n",
       "<table border=\"1\" class=\"dataframe\">\n",
       "  <thead>\n",
       "    <tr style=\"text-align: right;\">\n",
       "      <th></th>\n",
       "      <th>user_id</th>\n",
       "      <th>timestamp</th>\n",
       "      <th>review_sentences</th>\n",
       "      <th>rating</th>\n",
       "      <th>has_spoiler</th>\n",
       "      <th>book_id</th>\n",
       "      <th>review_id</th>\n",
       "    </tr>\n",
       "  </thead>\n",
       "  <tbody>\n",
       "    <tr>\n",
       "      <th>0</th>\n",
       "      <td>8842281e1d1347389f2ab93d60773d4d</td>\n",
       "      <td>2017-08-30</td>\n",
       "      <td>[[0, This is a special book.], [0, It started ...</td>\n",
       "      <td>5</td>\n",
       "      <td>True</td>\n",
       "      <td>18245960</td>\n",
       "      <td>dfdbb7b0eb5a7e4c26d59a937e2e5feb</td>\n",
       "    </tr>\n",
       "    <tr>\n",
       "      <th>1</th>\n",
       "      <td>8842281e1d1347389f2ab93d60773d4d</td>\n",
       "      <td>2017-03-22</td>\n",
       "      <td>[[0, Recommended by Don Katz.], [0, Avail for ...</td>\n",
       "      <td>3</td>\n",
       "      <td>False</td>\n",
       "      <td>16981</td>\n",
       "      <td>a5d2c3628987712d0e05c4f90798eb67</td>\n",
       "    </tr>\n",
       "    <tr>\n",
       "      <th>2</th>\n",
       "      <td>8842281e1d1347389f2ab93d60773d4d</td>\n",
       "      <td>2017-03-20</td>\n",
       "      <td>[[0, A fun, fast paced science fiction thrille...</td>\n",
       "      <td>3</td>\n",
       "      <td>True</td>\n",
       "      <td>28684704</td>\n",
       "      <td>2ede853b14dc4583f96cf5d120af636f</td>\n",
       "    </tr>\n",
       "    <tr>\n",
       "      <th>3</th>\n",
       "      <td>8842281e1d1347389f2ab93d60773d4d</td>\n",
       "      <td>2016-11-09</td>\n",
       "      <td>[[0, Recommended reading to understand what is...</td>\n",
       "      <td>0</td>\n",
       "      <td>False</td>\n",
       "      <td>27161156</td>\n",
       "      <td>ced5675e55cd9d38a524743f5c40996e</td>\n",
       "    </tr>\n",
       "    <tr>\n",
       "      <th>4</th>\n",
       "      <td>8842281e1d1347389f2ab93d60773d4d</td>\n",
       "      <td>2016-04-25</td>\n",
       "      <td>[[0, I really enjoyed this book, and there is ...</td>\n",
       "      <td>4</td>\n",
       "      <td>True</td>\n",
       "      <td>25884323</td>\n",
       "      <td>332732725863131279a8e345b63ac33e</td>\n",
       "    </tr>\n",
       "  </tbody>\n",
       "</table>\n",
       "</div>"
      ],
      "text/plain": [
       "                            user_id   timestamp  \\\n",
       "0  8842281e1d1347389f2ab93d60773d4d  2017-08-30   \n",
       "1  8842281e1d1347389f2ab93d60773d4d  2017-03-22   \n",
       "2  8842281e1d1347389f2ab93d60773d4d  2017-03-20   \n",
       "3  8842281e1d1347389f2ab93d60773d4d  2016-11-09   \n",
       "4  8842281e1d1347389f2ab93d60773d4d  2016-04-25   \n",
       "\n",
       "                                    review_sentences  rating  has_spoiler  \\\n",
       "0  [[0, This is a special book.], [0, It started ...       5         True   \n",
       "1  [[0, Recommended by Don Katz.], [0, Avail for ...       3        False   \n",
       "2  [[0, A fun, fast paced science fiction thrille...       3         True   \n",
       "3  [[0, Recommended reading to understand what is...       0        False   \n",
       "4  [[0, I really enjoyed this book, and there is ...       4         True   \n",
       "\n",
       "    book_id                         review_id  \n",
       "0  18245960  dfdbb7b0eb5a7e4c26d59a937e2e5feb  \n",
       "1     16981  a5d2c3628987712d0e05c4f90798eb67  \n",
       "2  28684704  2ede853b14dc4583f96cf5d120af636f  \n",
       "3  27161156  ced5675e55cd9d38a524743f5c40996e  \n",
       "4  25884323  332732725863131279a8e345b63ac33e  "
      ]
     },
     "execution_count": 41,
     "metadata": {},
     "output_type": "execute_result"
    }
   ],
   "source": [
    "df.head()"
   ]
  },
  {
   "cell_type": "code",
   "execution_count": 56,
   "metadata": {},
   "outputs": [],
   "source": [
    "df_final = df.merge(df2, how='left' , on='book_id')"
   ]
  },
  {
   "cell_type": "code",
   "execution_count": null,
   "metadata": {},
   "outputs": [],
   "source": []
  },
  {
   "cell_type": "code",
   "execution_count": 57,
   "metadata": {},
   "outputs": [],
   "source": [
    "def func_review_join(x):\n",
    "    str_rev = ''\n",
    "    for i in x:\n",
    "        str_rev= str_rev+i[1]\n",
    "    return str_rev\n"
   ]
  },
  {
   "cell_type": "code",
   "execution_count": 58,
   "metadata": {},
   "outputs": [],
   "source": [
    "df_final['review_sentences_join'] = df_final['review_sentences'].apply(func_review_join)"
   ]
  },
  {
   "cell_type": "code",
   "execution_count": 59,
   "metadata": {},
   "outputs": [
    {
     "data": {
      "text/plain": [
       "young-adult       288147\n",
       "fantasy           266190\n",
       "romance           145284\n",
       "fiction            98261\n",
       "mystery            43829\n",
       "                   ...  \n",
       "need                  10\n",
       "high-fantasy           9\n",
       "dnf                    9\n",
       "erotic-romance         9\n",
       "NaN                    1\n",
       "Name: genre, Length: 311, dtype: int64"
      ]
     },
     "execution_count": 59,
     "metadata": {},
     "output_type": "execute_result"
    }
   ],
   "source": [
    "df_final.genre.value_counts(dropna = False)"
   ]
  },
  {
   "cell_type": "code",
   "execution_count": 63,
   "metadata": {},
   "outputs": [],
   "source": [
    "#  Cleaning data\n",
    "#remove null \n",
    "df_final = df_final.dropna(axis='rows')\n"
   ]
  },
  {
   "cell_type": "code",
   "execution_count": 72,
   "metadata": {},
   "outputs": [],
   "source": [
    "def group_genre(x):\n",
    "    if('fantasy' in x):\n",
    "        return 'fantasy'\n",
    "    elif('fiction' in x):\n",
    "        return 'fiction'\n",
    "    elif('romance' in x):\n",
    "        return 'romance'\n",
    "    elif('adult' in x):\n",
    "        return'young-adult'\n",
    "    else:\n",
    "        return'other'"
   ]
  },
  {
   "cell_type": "code",
   "execution_count": 75,
   "metadata": {},
   "outputs": [],
   "source": [
    "df_final['genre'] = df_final.genre.apply(group_genre)"
   ]
  },
  {
   "cell_type": "code",
   "execution_count": 76,
   "metadata": {},
   "outputs": [
    {
     "data": {
      "text/html": [
       "<div>\n",
       "<style scoped>\n",
       "    .dataframe tbody tr th:only-of-type {\n",
       "        vertical-align: middle;\n",
       "    }\n",
       "\n",
       "    .dataframe tbody tr th {\n",
       "        vertical-align: top;\n",
       "    }\n",
       "\n",
       "    .dataframe thead th {\n",
       "        text-align: right;\n",
       "    }\n",
       "</style>\n",
       "<table border=\"1\" class=\"dataframe\">\n",
       "  <thead>\n",
       "    <tr style=\"text-align: right;\">\n",
       "      <th></th>\n",
       "      <th>user_id</th>\n",
       "      <th>timestamp</th>\n",
       "      <th>review_sentences</th>\n",
       "      <th>rating</th>\n",
       "      <th>has_spoiler</th>\n",
       "      <th>book_id</th>\n",
       "      <th>review_id</th>\n",
       "    </tr>\n",
       "  </thead>\n",
       "  <tbody>\n",
       "    <tr>\n",
       "      <th>0</th>\n",
       "      <td>8842281e1d1347389f2ab93d60773d4d</td>\n",
       "      <td>2017-08-30</td>\n",
       "      <td>[[0, This is a special book.], [0, It started ...</td>\n",
       "      <td>5</td>\n",
       "      <td>True</td>\n",
       "      <td>18245960</td>\n",
       "      <td>dfdbb7b0eb5a7e4c26d59a937e2e5feb</td>\n",
       "    </tr>\n",
       "    <tr>\n",
       "      <th>1</th>\n",
       "      <td>8842281e1d1347389f2ab93d60773d4d</td>\n",
       "      <td>2017-03-22</td>\n",
       "      <td>[[0, Recommended by Don Katz.], [0, Avail for ...</td>\n",
       "      <td>3</td>\n",
       "      <td>False</td>\n",
       "      <td>16981</td>\n",
       "      <td>a5d2c3628987712d0e05c4f90798eb67</td>\n",
       "    </tr>\n",
       "    <tr>\n",
       "      <th>2</th>\n",
       "      <td>8842281e1d1347389f2ab93d60773d4d</td>\n",
       "      <td>2017-03-20</td>\n",
       "      <td>[[0, A fun, fast paced science fiction thrille...</td>\n",
       "      <td>3</td>\n",
       "      <td>True</td>\n",
       "      <td>28684704</td>\n",
       "      <td>2ede853b14dc4583f96cf5d120af636f</td>\n",
       "    </tr>\n",
       "    <tr>\n",
       "      <th>3</th>\n",
       "      <td>8842281e1d1347389f2ab93d60773d4d</td>\n",
       "      <td>2016-11-09</td>\n",
       "      <td>[[0, Recommended reading to understand what is...</td>\n",
       "      <td>0</td>\n",
       "      <td>False</td>\n",
       "      <td>27161156</td>\n",
       "      <td>ced5675e55cd9d38a524743f5c40996e</td>\n",
       "    </tr>\n",
       "    <tr>\n",
       "      <th>4</th>\n",
       "      <td>8842281e1d1347389f2ab93d60773d4d</td>\n",
       "      <td>2016-04-25</td>\n",
       "      <td>[[0, I really enjoyed this book, and there is ...</td>\n",
       "      <td>4</td>\n",
       "      <td>True</td>\n",
       "      <td>25884323</td>\n",
       "      <td>332732725863131279a8e345b63ac33e</td>\n",
       "    </tr>\n",
       "  </tbody>\n",
       "</table>\n",
       "</div>"
      ],
      "text/plain": [
       "                            user_id   timestamp  \\\n",
       "0  8842281e1d1347389f2ab93d60773d4d  2017-08-30   \n",
       "1  8842281e1d1347389f2ab93d60773d4d  2017-03-22   \n",
       "2  8842281e1d1347389f2ab93d60773d4d  2017-03-20   \n",
       "3  8842281e1d1347389f2ab93d60773d4d  2016-11-09   \n",
       "4  8842281e1d1347389f2ab93d60773d4d  2016-04-25   \n",
       "\n",
       "                                    review_sentences  rating  has_spoiler  \\\n",
       "0  [[0, This is a special book.], [0, It started ...       5         True   \n",
       "1  [[0, Recommended by Don Katz.], [0, Avail for ...       3        False   \n",
       "2  [[0, A fun, fast paced science fiction thrille...       3         True   \n",
       "3  [[0, Recommended reading to understand what is...       0        False   \n",
       "4  [[0, I really enjoyed this book, and there is ...       4         True   \n",
       "\n",
       "    book_id                         review_id  \n",
       "0  18245960  dfdbb7b0eb5a7e4c26d59a937e2e5feb  \n",
       "1     16981  a5d2c3628987712d0e05c4f90798eb67  \n",
       "2  28684704  2ede853b14dc4583f96cf5d120af636f  \n",
       "3  27161156  ced5675e55cd9d38a524743f5c40996e  \n",
       "4  25884323  332732725863131279a8e345b63ac33e  "
      ]
     },
     "execution_count": 76,
     "metadata": {},
     "output_type": "execute_result"
    }
   ],
   "source": [
    "df.head()"
   ]
  },
  {
   "cell_type": "code",
   "execution_count": null,
   "metadata": {},
   "outputs": [],
   "source": []
  },
  {
   "cell_type": "code",
   "execution_count": 68,
   "metadata": {},
   "outputs": [],
   "source": [
    "top_genre = df_final.genre.value_counts()"
   ]
  },
  {
   "cell_type": "code",
   "execution_count": 71,
   "metadata": {},
   "outputs": [
    {
     "data": {
      "text/plain": [
       "young-adult           288147\n",
       "fantasy               266190\n",
       "romance               145284\n",
       "fiction                98261\n",
       "mystery                43829\n",
       "historical-fiction     39008\n",
       "urban-fantasy          36672\n",
       "m-m                    33964\n",
       "science-fiction        32761\n",
       "new-adult              31924\n",
       "Name: genre, dtype: int64"
      ]
     },
     "execution_count": 71,
     "metadata": {},
     "output_type": "execute_result"
    }
   ],
   "source": [
    "top_genre[:10]"
   ]
  },
  {
   "cell_type": "code",
   "execution_count": 79,
   "metadata": {},
   "outputs": [
    {
     "data": {
      "text/html": [
       "<div>\n",
       "<style scoped>\n",
       "    .dataframe tbody tr th:only-of-type {\n",
       "        vertical-align: middle;\n",
       "    }\n",
       "\n",
       "    .dataframe tbody tr th {\n",
       "        vertical-align: top;\n",
       "    }\n",
       "\n",
       "    .dataframe thead th {\n",
       "        text-align: right;\n",
       "    }\n",
       "</style>\n",
       "<table border=\"1\" class=\"dataframe\">\n",
       "  <thead>\n",
       "    <tr style=\"text-align: right;\">\n",
       "      <th></th>\n",
       "      <th>user_id</th>\n",
       "      <th>timestamp</th>\n",
       "      <th>review_sentences</th>\n",
       "      <th>rating</th>\n",
       "      <th>has_spoiler</th>\n",
       "      <th>book_id</th>\n",
       "      <th>review_id</th>\n",
       "      <th>genre</th>\n",
       "      <th>description</th>\n",
       "      <th>publication_year</th>\n",
       "      <th>ratings_count</th>\n",
       "      <th>review_sentences_join</th>\n",
       "    </tr>\n",
       "  </thead>\n",
       "  <tbody>\n",
       "    <tr>\n",
       "      <th>0</th>\n",
       "      <td>8842281e1d1347389f2ab93d60773d4d</td>\n",
       "      <td>2017-08-30</td>\n",
       "      <td>[[0, This is a special book.], [0, It started ...</td>\n",
       "      <td>5</td>\n",
       "      <td>True</td>\n",
       "      <td>18245960</td>\n",
       "      <td>dfdbb7b0eb5a7e4c26d59a937e2e5feb</td>\n",
       "      <td>other</td>\n",
       "      <td>The Three-Body Problemis the first chance for ...</td>\n",
       "      <td>2014</td>\n",
       "      <td>6336</td>\n",
       "      <td>This is a special book.It started slow for abo...</td>\n",
       "    </tr>\n",
       "    <tr>\n",
       "      <th>1</th>\n",
       "      <td>8842281e1d1347389f2ab93d60773d4d</td>\n",
       "      <td>2017-03-22</td>\n",
       "      <td>[[0, Recommended by Don Katz.], [0, Avail for ...</td>\n",
       "      <td>3</td>\n",
       "      <td>False</td>\n",
       "      <td>16981</td>\n",
       "      <td>a5d2c3628987712d0e05c4f90798eb67</td>\n",
       "      <td>other</td>\n",
       "      <td>First published in 1952 and immediately hailed...</td>\n",
       "      <td>1995</td>\n",
       "      <td>125232</td>\n",
       "      <td>Recommended by Don Katz.Avail for free in Dece...</td>\n",
       "    </tr>\n",
       "    <tr>\n",
       "      <th>2</th>\n",
       "      <td>8842281e1d1347389f2ab93d60773d4d</td>\n",
       "      <td>2017-03-20</td>\n",
       "      <td>[[0, A fun, fast paced science fiction thrille...</td>\n",
       "      <td>3</td>\n",
       "      <td>True</td>\n",
       "      <td>28684704</td>\n",
       "      <td>2ede853b14dc4583f96cf5d120af636f</td>\n",
       "      <td>fiction</td>\n",
       "      <td>\"Are you happy with your life?\"\\nThose are the...</td>\n",
       "      <td>2016</td>\n",
       "      <td>13990</td>\n",
       "      <td>A fun, fast paced science fiction thriller.I r...</td>\n",
       "    </tr>\n",
       "    <tr>\n",
       "      <th>3</th>\n",
       "      <td>8842281e1d1347389f2ab93d60773d4d</td>\n",
       "      <td>2016-11-09</td>\n",
       "      <td>[[0, Recommended reading to understand what is...</td>\n",
       "      <td>0</td>\n",
       "      <td>False</td>\n",
       "      <td>27161156</td>\n",
       "      <td>ced5675e55cd9d38a524743f5c40996e</td>\n",
       "      <td>fiction</td>\n",
       "      <td>From a former Marine and Yale Law School Gradu...</td>\n",
       "      <td>2016</td>\n",
       "      <td>99022</td>\n",
       "      <td>Recommended reading to understand what is goin...</td>\n",
       "    </tr>\n",
       "    <tr>\n",
       "      <th>4</th>\n",
       "      <td>8842281e1d1347389f2ab93d60773d4d</td>\n",
       "      <td>2016-04-25</td>\n",
       "      <td>[[0, I really enjoyed this book, and there is ...</td>\n",
       "      <td>4</td>\n",
       "      <td>True</td>\n",
       "      <td>25884323</td>\n",
       "      <td>332732725863131279a8e345b63ac33e</td>\n",
       "      <td>fiction</td>\n",
       "      <td>A major new novel from one of science fiction'...</td>\n",
       "      <td></td>\n",
       "      <td>1659</td>\n",
       "      <td>I really enjoyed this book, and there is a lot...</td>\n",
       "    </tr>\n",
       "  </tbody>\n",
       "</table>\n",
       "</div>"
      ],
      "text/plain": [
       "                            user_id   timestamp  \\\n",
       "0  8842281e1d1347389f2ab93d60773d4d  2017-08-30   \n",
       "1  8842281e1d1347389f2ab93d60773d4d  2017-03-22   \n",
       "2  8842281e1d1347389f2ab93d60773d4d  2017-03-20   \n",
       "3  8842281e1d1347389f2ab93d60773d4d  2016-11-09   \n",
       "4  8842281e1d1347389f2ab93d60773d4d  2016-04-25   \n",
       "\n",
       "                                    review_sentences  rating  has_spoiler  \\\n",
       "0  [[0, This is a special book.], [0, It started ...       5         True   \n",
       "1  [[0, Recommended by Don Katz.], [0, Avail for ...       3        False   \n",
       "2  [[0, A fun, fast paced science fiction thrille...       3         True   \n",
       "3  [[0, Recommended reading to understand what is...       0        False   \n",
       "4  [[0, I really enjoyed this book, and there is ...       4         True   \n",
       "\n",
       "    book_id                         review_id    genre  \\\n",
       "0  18245960  dfdbb7b0eb5a7e4c26d59a937e2e5feb    other   \n",
       "1     16981  a5d2c3628987712d0e05c4f90798eb67    other   \n",
       "2  28684704  2ede853b14dc4583f96cf5d120af636f  fiction   \n",
       "3  27161156  ced5675e55cd9d38a524743f5c40996e  fiction   \n",
       "4  25884323  332732725863131279a8e345b63ac33e  fiction   \n",
       "\n",
       "                                         description publication_year  \\\n",
       "0  The Three-Body Problemis the first chance for ...             2014   \n",
       "1  First published in 1952 and immediately hailed...             1995   \n",
       "2  \"Are you happy with your life?\"\\nThose are the...             2016   \n",
       "3  From a former Marine and Yale Law School Gradu...             2016   \n",
       "4  A major new novel from one of science fiction'...                    \n",
       "\n",
       "  ratings_count                              review_sentences_join  \n",
       "0          6336  This is a special book.It started slow for abo...  \n",
       "1        125232  Recommended by Don Katz.Avail for free in Dece...  \n",
       "2         13990  A fun, fast paced science fiction thriller.I r...  \n",
       "3         99022  Recommended reading to understand what is goin...  \n",
       "4          1659  I really enjoyed this book, and there is a lot...  "
      ]
     },
     "execution_count": 79,
     "metadata": {},
     "output_type": "execute_result"
    }
   ],
   "source": [
    "df_final.head()"
   ]
  },
  {
   "cell_type": "code",
   "execution_count": null,
   "metadata": {},
   "outputs": [],
   "source": []
  },
  {
   "cell_type": "code",
   "execution_count": 77,
   "metadata": {},
   "outputs": [],
   "source": [
    "df_final.to_csv('Final_merge_spiler.csv')"
   ]
  },
  {
   "cell_type": "code",
   "execution_count": 7,
   "metadata": {},
   "outputs": [],
   "source": [
    "df2 = pd.DataFrame(data)"
   ]
  },
  {
   "cell_type": "code",
   "execution_count": 7,
   "metadata": {},
   "outputs": [],
   "source": [
    "del data"
   ]
  },
  {
   "cell_type": "code",
   "execution_count": 9,
   "metadata": {},
   "outputs": [],
   "source": [
    "del df2"
   ]
  },
  {
   "cell_type": "code",
   "execution_count": 8,
   "metadata": {},
   "outputs": [],
   "source": [
    "books = df.book_id.unique()"
   ]
  },
  {
   "cell_type": "code",
   "execution_count": null,
   "metadata": {},
   "outputs": [],
   "source": [
    "del df"
   ]
  },
  {
   "cell_type": "code",
   "execution_count": 11,
   "metadata": {},
   "outputs": [
    {
     "data": {
      "text/plain": [
       "array(['18245960', '16981', '28684704', ..., '12997592', '12323895',\n",
       "       '16148398'], dtype=object)"
      ]
     },
     "execution_count": 11,
     "metadata": {},
     "output_type": "execute_result"
    }
   ],
   "source": [
    "books"
   ]
  },
  {
   "cell_type": "code",
   "execution_count": 14,
   "metadata": {},
   "outputs": [
    {
     "ename": "JSONDecodeError",
     "evalue": "Extra data: line 2 column 1 (char 1050)",
     "output_type": "error",
     "traceback": [
      "\u001b[1;31m---------------------------------------------------------------------------\u001b[0m",
      "\u001b[1;31mJSONDecodeError\u001b[0m                           Traceback (most recent call last)",
      "\u001b[1;32m~\\AppData\\Local\\Temp/ipykernel_27788/403425170.py\u001b[0m in \u001b[0;36m<module>\u001b[1;34m\u001b[0m\n\u001b[0;32m      3\u001b[0m \u001b[1;31m# returns JSON object as\u001b[0m\u001b[1;33m\u001b[0m\u001b[1;33m\u001b[0m\u001b[0m\n\u001b[0;32m      4\u001b[0m \u001b[1;31m# a dictionary\u001b[0m\u001b[1;33m\u001b[0m\u001b[1;33m\u001b[0m\u001b[0m\n\u001b[1;32m----> 5\u001b[1;33m \u001b[0mdata\u001b[0m \u001b[1;33m=\u001b[0m \u001b[0mjson\u001b[0m\u001b[1;33m.\u001b[0m\u001b[0mload\u001b[0m\u001b[1;33m(\u001b[0m\u001b[0mf\u001b[0m\u001b[1;33m)\u001b[0m\u001b[1;33m\u001b[0m\u001b[1;33m\u001b[0m\u001b[0m\n\u001b[0m",
      "\u001b[1;32mC:\\Program Files\\WindowsApps\\PythonSoftwareFoundation.Python.3.9_3.9.3312.0_x64__qbz5n2kfra8p0\\lib\\json\\__init__.py\u001b[0m in \u001b[0;36mload\u001b[1;34m(fp, cls, object_hook, parse_float, parse_int, parse_constant, object_pairs_hook, **kw)\u001b[0m\n\u001b[0;32m    291\u001b[0m     \u001b[0mkwarg\u001b[0m\u001b[1;33m;\u001b[0m \u001b[0motherwise\u001b[0m\u001b[0;31m \u001b[0m\u001b[0;31m`\u001b[0m\u001b[0;31m`\u001b[0m\u001b[0mJSONDecoder\u001b[0m\u001b[0;31m`\u001b[0m\u001b[0;31m`\u001b[0m \u001b[1;32mis\u001b[0m \u001b[0mused\u001b[0m\u001b[1;33m.\u001b[0m\u001b[1;33m\u001b[0m\u001b[1;33m\u001b[0m\u001b[0m\n\u001b[0;32m    292\u001b[0m     \"\"\"\n\u001b[1;32m--> 293\u001b[1;33m     return loads(fp.read(),\n\u001b[0m\u001b[0;32m    294\u001b[0m         \u001b[0mcls\u001b[0m\u001b[1;33m=\u001b[0m\u001b[0mcls\u001b[0m\u001b[1;33m,\u001b[0m \u001b[0mobject_hook\u001b[0m\u001b[1;33m=\u001b[0m\u001b[0mobject_hook\u001b[0m\u001b[1;33m,\u001b[0m\u001b[1;33m\u001b[0m\u001b[1;33m\u001b[0m\u001b[0m\n\u001b[0;32m    295\u001b[0m         \u001b[0mparse_float\u001b[0m\u001b[1;33m=\u001b[0m\u001b[0mparse_float\u001b[0m\u001b[1;33m,\u001b[0m \u001b[0mparse_int\u001b[0m\u001b[1;33m=\u001b[0m\u001b[0mparse_int\u001b[0m\u001b[1;33m,\u001b[0m\u001b[1;33m\u001b[0m\u001b[1;33m\u001b[0m\u001b[0m\n",
      "\u001b[1;32mC:\\Program Files\\WindowsApps\\PythonSoftwareFoundation.Python.3.9_3.9.3312.0_x64__qbz5n2kfra8p0\\lib\\json\\__init__.py\u001b[0m in \u001b[0;36mloads\u001b[1;34m(s, cls, object_hook, parse_float, parse_int, parse_constant, object_pairs_hook, **kw)\u001b[0m\n\u001b[0;32m    344\u001b[0m             \u001b[0mparse_int\u001b[0m \u001b[1;32mis\u001b[0m \u001b[1;32mNone\u001b[0m \u001b[1;32mand\u001b[0m \u001b[0mparse_float\u001b[0m \u001b[1;32mis\u001b[0m \u001b[1;32mNone\u001b[0m \u001b[1;32mand\u001b[0m\u001b[1;33m\u001b[0m\u001b[1;33m\u001b[0m\u001b[0m\n\u001b[0;32m    345\u001b[0m             parse_constant is None and object_pairs_hook is None and not kw):\n\u001b[1;32m--> 346\u001b[1;33m         \u001b[1;32mreturn\u001b[0m \u001b[0m_default_decoder\u001b[0m\u001b[1;33m.\u001b[0m\u001b[0mdecode\u001b[0m\u001b[1;33m(\u001b[0m\u001b[0ms\u001b[0m\u001b[1;33m)\u001b[0m\u001b[1;33m\u001b[0m\u001b[1;33m\u001b[0m\u001b[0m\n\u001b[0m\u001b[0;32m    347\u001b[0m     \u001b[1;32mif\u001b[0m \u001b[0mcls\u001b[0m \u001b[1;32mis\u001b[0m \u001b[1;32mNone\u001b[0m\u001b[1;33m:\u001b[0m\u001b[1;33m\u001b[0m\u001b[1;33m\u001b[0m\u001b[0m\n\u001b[0;32m    348\u001b[0m         \u001b[0mcls\u001b[0m \u001b[1;33m=\u001b[0m \u001b[0mJSONDecoder\u001b[0m\u001b[1;33m\u001b[0m\u001b[1;33m\u001b[0m\u001b[0m\n",
      "\u001b[1;32mC:\\Program Files\\WindowsApps\\PythonSoftwareFoundation.Python.3.9_3.9.3312.0_x64__qbz5n2kfra8p0\\lib\\json\\decoder.py\u001b[0m in \u001b[0;36mdecode\u001b[1;34m(self, s, _w)\u001b[0m\n\u001b[0;32m    338\u001b[0m         \u001b[0mend\u001b[0m \u001b[1;33m=\u001b[0m \u001b[0m_w\u001b[0m\u001b[1;33m(\u001b[0m\u001b[0ms\u001b[0m\u001b[1;33m,\u001b[0m \u001b[0mend\u001b[0m\u001b[1;33m)\u001b[0m\u001b[1;33m.\u001b[0m\u001b[0mend\u001b[0m\u001b[1;33m(\u001b[0m\u001b[1;33m)\u001b[0m\u001b[1;33m\u001b[0m\u001b[1;33m\u001b[0m\u001b[0m\n\u001b[0;32m    339\u001b[0m         \u001b[1;32mif\u001b[0m \u001b[0mend\u001b[0m \u001b[1;33m!=\u001b[0m \u001b[0mlen\u001b[0m\u001b[1;33m(\u001b[0m\u001b[0ms\u001b[0m\u001b[1;33m)\u001b[0m\u001b[1;33m:\u001b[0m\u001b[1;33m\u001b[0m\u001b[1;33m\u001b[0m\u001b[0m\n\u001b[1;32m--> 340\u001b[1;33m             \u001b[1;32mraise\u001b[0m \u001b[0mJSONDecodeError\u001b[0m\u001b[1;33m(\u001b[0m\u001b[1;34m\"Extra data\"\u001b[0m\u001b[1;33m,\u001b[0m \u001b[0ms\u001b[0m\u001b[1;33m,\u001b[0m \u001b[0mend\u001b[0m\u001b[1;33m)\u001b[0m\u001b[1;33m\u001b[0m\u001b[1;33m\u001b[0m\u001b[0m\n\u001b[0m\u001b[0;32m    341\u001b[0m         \u001b[1;32mreturn\u001b[0m \u001b[0mobj\u001b[0m\u001b[1;33m\u001b[0m\u001b[1;33m\u001b[0m\u001b[0m\n\u001b[0;32m    342\u001b[0m \u001b[1;33m\u001b[0m\u001b[0m\n",
      "\u001b[1;31mJSONDecodeError\u001b[0m: Extra data: line 2 column 1 (char 1050)"
     ]
    }
   ],
   "source": [
    "f = open('goodreads_books.json')\n",
    "  \n",
    "# returns JSON object as \n",
    "# a dictionary\n",
    "data = json.load(f)"
   ]
  },
  {
   "cell_type": "code",
   "execution_count": 16,
   "metadata": {},
   "outputs": [],
   "source": [
    "f.close()"
   ]
  },
  {
   "cell_type": "code",
   "execution_count": null,
   "metadata": {},
   "outputs": [],
   "source": []
  },
  {
   "cell_type": "code",
   "execution_count": 8,
   "metadata": {},
   "outputs": [
    {
     "ename": "KeyboardInterrupt",
     "evalue": "",
     "output_type": "error",
     "traceback": [
      "\u001b[1;31m---------------------------------------------------------------------------\u001b[0m",
      "\u001b[1;31mKeyboardInterrupt\u001b[0m                         Traceback (most recent call last)",
      "\u001b[1;32m~\\AppData\\Local\\Temp/ipykernel_24956/3227499258.py\u001b[0m in \u001b[0;36m<module>\u001b[1;34m\u001b[0m\n\u001b[0;32m      9\u001b[0m \u001b[1;33m\u001b[0m\u001b[0m\n\u001b[0;32m     10\u001b[0m   \u001b[0msource\u001b[0m \u001b[1;33m=\u001b[0m \u001b[0murlopen\u001b[0m\u001b[1;33m(\u001b[0m\u001b[0mmy_urls\u001b[0m\u001b[1;33m)\u001b[0m\u001b[1;33m.\u001b[0m\u001b[0mread\u001b[0m\u001b[1;33m(\u001b[0m\u001b[1;33m)\u001b[0m\u001b[1;33m\u001b[0m\u001b[1;33m\u001b[0m\u001b[0m\n\u001b[1;32m---> 11\u001b[1;33m   \u001b[0mtime\u001b[0m\u001b[1;33m.\u001b[0m\u001b[0msleep\u001b[0m\u001b[1;33m(\u001b[0m\u001b[1;36m5\u001b[0m\u001b[1;33m)\u001b[0m\u001b[1;33m\u001b[0m\u001b[1;33m\u001b[0m\u001b[0m\n\u001b[0m\u001b[0;32m     12\u001b[0m   \u001b[0msoup\u001b[0m \u001b[1;33m=\u001b[0m \u001b[0mbs\u001b[0m\u001b[1;33m.\u001b[0m\u001b[0mBeautifulSoup\u001b[0m\u001b[1;33m(\u001b[0m\u001b[0msource\u001b[0m\u001b[1;33m)\u001b[0m\u001b[1;33m\u001b[0m\u001b[1;33m\u001b[0m\u001b[0m\n\u001b[0;32m     13\u001b[0m   \u001b[0mtext_cdata\u001b[0m \u001b[1;33m=\u001b[0m \u001b[1;34m' '\u001b[0m\u001b[1;33m.\u001b[0m\u001b[0mjoin\u001b[0m\u001b[1;33m(\u001b[0m\u001b[0msoup\u001b[0m\u001b[1;33m.\u001b[0m\u001b[0mfind_all\u001b[0m\u001b[1;33m(\u001b[0m\u001b[0mtext\u001b[0m\u001b[1;33m=\u001b[0m\u001b[1;32mTrue\u001b[0m\u001b[1;33m)\u001b[0m\u001b[1;33m)\u001b[0m\u001b[1;33m\u001b[0m\u001b[1;33m\u001b[0m\u001b[0m\n",
      "\u001b[1;31mKeyboardInterrupt\u001b[0m: "
     ]
    }
   ],
   "source": [
    "# genre_dic = {}\n",
    "import time\n",
    "\n",
    "\n",
    "for book_id in books:\n",
    "  if(book_id in genre_dic):\n",
    "    continue\n",
    "  my_urls = 'https://www.goodreads.com/book/show/' + book_id\n",
    "\n",
    "  source = urlopen(my_urls).read()\n",
    "  time.sleep(5)\n",
    "  soup = bs.BeautifulSoup(source)\n",
    "  text_cdata = ' '.join(soup.find_all(text=True))\n",
    "  genres = re.findall(r'shelf\",(.*?)\\)', text_cdata)\n",
    "  try:\n",
    "    genre_dic[book_id] = eval(genres[0])\n",
    "\n",
    "  except:\n",
    "    print('Failed For -----------------------',book_id)\n",
    "  "
   ]
  },
  {
   "cell_type": "code",
   "execution_count": null,
   "metadata": {},
   "outputs": [],
   "source": [
    "with open(\"genre2.json\", \"w\") as outfile:\n",
    "    json.dump(genre_dic, outfile)"
   ]
  },
  {
   "cell_type": "markdown",
   "metadata": {},
   "source": [
    "# EDA"
   ]
  },
  {
   "cell_type": "code",
   "execution_count": 80,
   "metadata": {},
   "outputs": [
    {
     "name": "stdout",
     "output_type": "stream",
     "text": [
      "<class 'pandas.core.frame.DataFrame'>\n",
      "Int64Index: 1378032 entries, 0 to 1378032\n",
      "Data columns (total 12 columns):\n",
      " #   Column                 Non-Null Count    Dtype \n",
      "---  ------                 --------------    ----- \n",
      " 0   user_id                1378032 non-null  object\n",
      " 1   timestamp              1378032 non-null  object\n",
      " 2   review_sentences       1378032 non-null  object\n",
      " 3   rating                 1378032 non-null  int64 \n",
      " 4   has_spoiler            1378032 non-null  bool  \n",
      " 5   book_id                1378032 non-null  object\n",
      " 6   review_id              1378032 non-null  object\n",
      " 7   genre                  1378032 non-null  object\n",
      " 8   description            1378032 non-null  object\n",
      " 9   publication_year       1378032 non-null  object\n",
      " 10  ratings_count          1378032 non-null  object\n",
      " 11  review_sentences_join  1378032 non-null  object\n",
      "dtypes: bool(1), int64(1), object(10)\n",
      "memory usage: 127.5+ MB\n"
     ]
    }
   ],
   "source": [
    "df_final.info()"
   ]
  },
  {
   "cell_type": "code",
   "execution_count": 81,
   "metadata": {},
   "outputs": [
    {
     "data": {
      "text/plain": [
       "18892"
      ]
     },
     "execution_count": 81,
     "metadata": {},
     "output_type": "execute_result"
    }
   ],
   "source": [
    "df_final.user_id.nunique()"
   ]
  },
  {
   "cell_type": "code",
   "execution_count": 84,
   "metadata": {},
   "outputs": [],
   "source": [
    "spoiler_dist = df_final.has_spoiler.value_counts()/len(df_final) *100"
   ]
  },
  {
   "cell_type": "code",
   "execution_count": 88,
   "metadata": {},
   "outputs": [
    {
     "data": {
      "text/plain": [
       "<AxesSubplot:>"
      ]
     },
     "execution_count": 88,
     "metadata": {},
     "output_type": "execute_result"
    },
    {
     "data": {
      "image/png": "[encoded data removed]",
      "text/plain": [
       "<Figure size 432x288 with 1 Axes>"
      ]
     },
     "metadata": {
      "needs_background": "light"
     },
     "output_type": "display_data"
    }
   ],
   "source": [
    "spoiler_dist.plot.bar()"
   ]
  },
  {
   "cell_type": "code",
   "execution_count": 93,
   "metadata": {},
   "outputs": [
    {
     "data": {
      "image/png": "[encoded data removed]",
      "text/plain": [
       "<Figure size 432x288 with 1 Axes>"
      ]
     },
     "metadata": {
      "needs_background": "light"
     },
     "output_type": "display_data"
    }
   ],
   "source": [
    "import matplotlib.pyplot as plt\n",
    "from decimal import Decimal\n",
    "ax = spoiler_dist.plot(x=spoiler_dist.index, y=spoiler_dist.values, kind='bar')\n",
    "for p in ax.patches:\n",
    "    ax.annotate('{:.4}'.format(Decimal(str(p.get_height()))), (p.get_x(), p.get_height()))\n",
    "plt.tight_layout()\n",
    "plt.show()"
   ]
  },
  {
   "cell_type": "code",
   "execution_count": 106,
   "metadata": {},
   "outputs": [],
   "source": [
    "pub = df_final.publication_year.value_counts()"
   ]
  },
  {
   "cell_type": "code",
   "execution_count": 109,
   "metadata": {},
   "outputs": [],
   "source": [
    "pub = pub[:10]"
   ]
  },
  {
   "cell_type": "code",
   "execution_count": 110,
   "metadata": {},
   "outputs": [
    {
     "data": {
      "image/png": "[encoded data removed]",
      "text/plain": [
       "<Figure size 432x288 with 1 Axes>"
      ]
     },
     "metadata": {
      "needs_background": "light"
     },
     "output_type": "display_data"
    }
   ],
   "source": [
    "\n",
    "ax = pub.plot(x=pub.index, y=pub.values, kind='bar')\n",
    "for p in ax.patches:\n",
    "    ax.annotate('{:.1}'.format(Decimal(str(p.get_height()))), (p.get_x(), p.get_height()))\n",
    "\n",
    "\n",
    "\n",
    "plt.show()"
   ]
  },
  {
   "cell_type": "code",
   "execution_count": 104,
   "metadata": {},
   "outputs": [
    {
     "data": {
      "image/png": "[encoded data removed]",
      "text/plain": [
       "<Figure size 432x288 with 1 Axes>"
      ]
     },
     "metadata": {
      "needs_background": "light"
     },
     "output_type": "display_data"
    }
   ],
   "source": [
    "pub = df_final.genre.value_counts()\n",
    "ax = pub.plot(x=pub.index, y=pub.values, kind='bar')\n",
    "for p in ax.patches:\n",
    "    ax.annotate('{:.1}'.format(Decimal(str(p.get_height()))), (p.get_x(), p.get_height()))\n",
    "\n",
    "\n",
    "\n",
    "plt.show()"
   ]
  },
  {
   "cell_type": "code",
   "execution_count": 114,
   "metadata": {},
   "outputs": [
    {
     "data": {
      "image/png": "[encoded data removed]",
      "text/plain": [
       "<Figure size 432x288 with 1 Axes>"
      ]
     },
     "metadata": {
      "needs_background": "light"
     },
     "output_type": "display_data"
    }
   ],
   "source": [
    "pub = df_final.rating.value_counts()\n",
    "ax = pub.plot(x=pub.index, y=pub.values, kind='bar')\n",
    "for p in ax.patches:\n",
    "    ax.annotate('{:.1}'.format(Decimal(str(p.get_height()))), (p.get_x(), p.get_height()))\n",
    "\n",
    "\n",
    "\n",
    "plt.show()"
   ]
  },
  {
   "cell_type": "code",
   "execution_count": 120,
   "metadata": {},
   "outputs": [
    {
     "data": {
      "text/plain": [
       "0            6336\n",
       "1          125232\n",
       "2           13990\n",
       "3           99022\n",
       "4            1659\n",
       "            ...  \n",
       "1378028    135482\n",
       "1378029      2370\n",
       "1378030     69293\n",
       "1378031    318750\n",
       "1378032    227617\n",
       "Name: ratings_count, Length: 1378032, dtype: object"
      ]
     },
     "execution_count": 120,
     "metadata": {},
     "output_type": "execute_result"
    }
   ],
   "source": [
    " df_final.ratings_count"
   ]
  },
  {
   "cell_type": "code",
   "execution_count": 4,
   "metadata": {},
   "outputs": [],
   "source": [
    "\n",
    "df_final = pd.read_csv('merged_spoiler.csv')"
   ]
  },
  {
   "cell_type": "code",
   "execution_count": null,
   "metadata": {},
   "outputs": [],
   "source": []
  },
  {
   "cell_type": "code",
   "execution_count": 8,
   "metadata": {},
   "outputs": [
    {
     "data": {
      "text/html": [
       "<div>\n",
       "<style scoped>\n",
       "    .dataframe tbody tr th:only-of-type {\n",
       "        vertical-align: middle;\n",
       "    }\n",
       "\n",
       "    .dataframe tbody tr th {\n",
       "        vertical-align: top;\n",
       "    }\n",
       "\n",
       "    .dataframe thead th {\n",
       "        text-align: right;\n",
       "    }\n",
       "</style>\n",
       "<table border=\"1\" class=\"dataframe\">\n",
       "  <thead>\n",
       "    <tr style=\"text-align: right;\">\n",
       "      <th></th>\n",
       "      <th>user_id</th>\n",
       "      <th>timestamp</th>\n",
       "      <th>review_sentences</th>\n",
       "      <th>rating</th>\n",
       "      <th>has_spoiler</th>\n",
       "      <th>book_id</th>\n",
       "      <th>review_id</th>\n",
       "      <th>genre</th>\n",
       "      <th>description</th>\n",
       "      <th>publication_year</th>\n",
       "      <th>ratings_count</th>\n",
       "      <th>review_sentences_join</th>\n",
       "    </tr>\n",
       "  </thead>\n",
       "  <tbody>\n",
       "    <tr>\n",
       "      <th>4</th>\n",
       "      <td>8842281e1d1347389f2ab93d60773d4d</td>\n",
       "      <td>2016-04-25</td>\n",
       "      <td>[[0, 'I really enjoyed this book, and there is...</td>\n",
       "      <td>4</td>\n",
       "      <td>True</td>\n",
       "      <td>25884323</td>\n",
       "      <td>332732725863131279a8e345b63ac33e</td>\n",
       "      <td>fiction</td>\n",
       "      <td>A major new novel from one of science fiction'...</td>\n",
       "      <td>NaN</td>\n",
       "      <td>1659</td>\n",
       "      <td>I really enjoyed this book, and there is a lot...</td>\n",
       "    </tr>\n",
       "    <tr>\n",
       "      <th>18</th>\n",
       "      <td>8842281e1d1347389f2ab93d60773d4d</td>\n",
       "      <td>2014-01-10</td>\n",
       "      <td>[[0, 'The Circle is a new bay area company, bu...</td>\n",
       "      <td>4</td>\n",
       "      <td>False</td>\n",
       "      <td>18659415</td>\n",
       "      <td>4e652faa682edfcb0c0e1effdd1f8e58</td>\n",
       "      <td>fiction</td>\n",
       "      <td>The Circleis the exhilarating new novel from D...</td>\n",
       "      <td>NaN</td>\n",
       "      <td>10458</td>\n",
       "      <td>The Circle is a new bay area company, but is r...</td>\n",
       "    </tr>\n",
       "    <tr>\n",
       "      <th>32</th>\n",
       "      <td>8842281e1d1347389f2ab93d60773d4d</td>\n",
       "      <td>2017-03-22</td>\n",
       "      <td>[[0, '** spoiler alert **'], [0, 'Critics asid...</td>\n",
       "      <td>3</td>\n",
       "      <td>False</td>\n",
       "      <td>6411961</td>\n",
       "      <td>d44b6d28f456dbcc5b1537b4c5572400</td>\n",
       "      <td>fiction</td>\n",
       "      <td>WHAT IS LOST...\\nWILL BE FOUND\\nIn this stunni...</td>\n",
       "      <td>NaN</td>\n",
       "      <td>377017</td>\n",
       "      <td>** spoiler alert **Critics aside, Dan Brown ca...</td>\n",
       "    </tr>\n",
       "    <tr>\n",
       "      <th>47</th>\n",
       "      <td>8842281e1d1347389f2ab93d60773d4d</td>\n",
       "      <td>2017-03-22</td>\n",
       "      <td>[[0, \"Loved every second, and didn't want it t...</td>\n",
       "      <td>5</td>\n",
       "      <td>False</td>\n",
       "      <td>119322</td>\n",
       "      <td>111b958d9d8b5132be5e0c63399d1839</td>\n",
       "      <td>fantasy</td>\n",
       "      <td>Here lives an orphaned ward named Lyra Belacqu...</td>\n",
       "      <td>NaN</td>\n",
       "      <td>973154</td>\n",
       "      <td>Loved every second, and didn't want it to end,...</td>\n",
       "    </tr>\n",
       "    <tr>\n",
       "      <th>50</th>\n",
       "      <td>8842281e1d1347389f2ab93d60773d4d</td>\n",
       "      <td>2017-03-22</td>\n",
       "      <td>[[0, \"I'm not sure if I love Khaled's characte...</td>\n",
       "      <td>5</td>\n",
       "      <td>False</td>\n",
       "      <td>128029</td>\n",
       "      <td>172eea9d13272fc7ae6c34ca356496bc</td>\n",
       "      <td>fiction</td>\n",
       "      <td>At once an incredible chronicle of thirty year...</td>\n",
       "      <td>NaN</td>\n",
       "      <td>835172</td>\n",
       "      <td>I'm not sure if I love Khaled's characters (se...</td>\n",
       "    </tr>\n",
       "    <tr>\n",
       "      <th>...</th>\n",
       "      <td>...</td>\n",
       "      <td>...</td>\n",
       "      <td>...</td>\n",
       "      <td>...</td>\n",
       "      <td>...</td>\n",
       "      <td>...</td>\n",
       "      <td>...</td>\n",
       "      <td>...</td>\n",
       "      <td>...</td>\n",
       "      <td>...</td>\n",
       "      <td>...</td>\n",
       "      <td>...</td>\n",
       "    </tr>\n",
       "    <tr>\n",
       "      <th>1377935</th>\n",
       "      <td>4520da81e308f4f60047d43d69d3c39d</td>\n",
       "      <td>2017-02-17</td>\n",
       "      <td>[[0, \"I have to say that this isn't a book I'd...</td>\n",
       "      <td>5</td>\n",
       "      <td>False</td>\n",
       "      <td>27362503</td>\n",
       "      <td>0e6dab8caab646ef4a8e815ea668a6ad</td>\n",
       "      <td>romance</td>\n",
       "      <td>SOMETIMES THE ONE WHO LOVES YOU IS THE ONE WHO...</td>\n",
       "      <td>NaN</td>\n",
       "      <td>88278</td>\n",
       "      <td>I have to say that this isn't a book I'd norma...</td>\n",
       "    </tr>\n",
       "    <tr>\n",
       "      <th>1377951</th>\n",
       "      <td>e32792a55ef11527453a96a9df5a4fc2</td>\n",
       "      <td>2017-09-19</td>\n",
       "      <td>[[0, \"I don't know why it took me so much time...</td>\n",
       "      <td>4</td>\n",
       "      <td>False</td>\n",
       "      <td>1933181</td>\n",
       "      <td>e35c5645cf248bc011e54e13feeeeb72</td>\n",
       "      <td>fiction</td>\n",
       "      <td>Following the tremendous success of her first ...</td>\n",
       "      <td>NaN</td>\n",
       "      <td>20560</td>\n",
       "      <td>I don't know why it took me so much time to re...</td>\n",
       "    </tr>\n",
       "    <tr>\n",
       "      <th>1377988</th>\n",
       "      <td>e32792a55ef11527453a96a9df5a4fc2</td>\n",
       "      <td>2017-05-11</td>\n",
       "      <td>[[0, 'This was an interesting reading experien...</td>\n",
       "      <td>3</td>\n",
       "      <td>True</td>\n",
       "      <td>11333587</td>\n",
       "      <td>1f0e2fab064b03f22baffd6579641000</td>\n",
       "      <td>fiction</td>\n",
       "      <td>It's the year 2044, and the real world is an u...</td>\n",
       "      <td>NaN</td>\n",
       "      <td>1091</td>\n",
       "      <td>This was an interesting reading experience.For...</td>\n",
       "    </tr>\n",
       "    <tr>\n",
       "      <th>1377999</th>\n",
       "      <td>e32792a55ef11527453a96a9df5a4fc2</td>\n",
       "      <td>2017-01-14</td>\n",
       "      <td>[[0, \"I've just started, but I have to say I'm...</td>\n",
       "      <td>4</td>\n",
       "      <td>False</td>\n",
       "      <td>9460487</td>\n",
       "      <td>c510f095a02e00300ccbd2475f78a790</td>\n",
       "      <td>fantasy</td>\n",
       "      <td>A mysterious island. An abandoned orphanage. A...</td>\n",
       "      <td>NaN</td>\n",
       "      <td>641884</td>\n",
       "      <td>I've just started, but I have to say I'm impre...</td>\n",
       "    </tr>\n",
       "    <tr>\n",
       "      <th>1378010</th>\n",
       "      <td>e32792a55ef11527453a96a9df5a4fc2</td>\n",
       "      <td>2013-06-14</td>\n",
       "      <td>[[0, \"I finished the first half but in the tim...</td>\n",
       "      <td>0</td>\n",
       "      <td>False</td>\n",
       "      <td>15241</td>\n",
       "      <td>91357847543b13fc5e233fdf8493a9ae</td>\n",
       "      <td>fantasy</td>\n",
       "      <td>The Fellowship was scattered. Some were bracin...</td>\n",
       "      <td>NaN</td>\n",
       "      <td>490005</td>\n",
       "      <td>I finished the first half but in the time it t...</td>\n",
       "    </tr>\n",
       "  </tbody>\n",
       "</table>\n",
       "<p>140314 rows × 12 columns</p>\n",
       "</div>"
      ],
      "text/plain": [
       "                                  user_id   timestamp  \\\n",
       "4        8842281e1d1347389f2ab93d60773d4d  2016-04-25   \n",
       "18       8842281e1d1347389f2ab93d60773d4d  2014-01-10   \n",
       "32       8842281e1d1347389f2ab93d60773d4d  2017-03-22   \n",
       "47       8842281e1d1347389f2ab93d60773d4d  2017-03-22   \n",
       "50       8842281e1d1347389f2ab93d60773d4d  2017-03-22   \n",
       "...                                   ...         ...   \n",
       "1377935  4520da81e308f4f60047d43d69d3c39d  2017-02-17   \n",
       "1377951  e32792a55ef11527453a96a9df5a4fc2  2017-09-19   \n",
       "1377988  e32792a55ef11527453a96a9df5a4fc2  2017-05-11   \n",
       "1377999  e32792a55ef11527453a96a9df5a4fc2  2017-01-14   \n",
       "1378010  e32792a55ef11527453a96a9df5a4fc2  2013-06-14   \n",
       "\n",
       "                                          review_sentences  rating  \\\n",
       "4        [[0, 'I really enjoyed this book, and there is...       4   \n",
       "18       [[0, 'The Circle is a new bay area company, bu...       4   \n",
       "32       [[0, '** spoiler alert **'], [0, 'Critics asid...       3   \n",
       "47       [[0, \"Loved every second, and didn't want it t...       5   \n",
       "50       [[0, \"I'm not sure if I love Khaled's characte...       5   \n",
       "...                                                    ...     ...   \n",
       "1377935  [[0, \"I have to say that this isn't a book I'd...       5   \n",
       "1377951  [[0, \"I don't know why it took me so much time...       4   \n",
       "1377988  [[0, 'This was an interesting reading experien...       3   \n",
       "1377999  [[0, \"I've just started, but I have to say I'm...       4   \n",
       "1378010  [[0, \"I finished the first half but in the tim...       0   \n",
       "\n",
       "         has_spoiler   book_id                         review_id    genre  \\\n",
       "4               True  25884323  332732725863131279a8e345b63ac33e  fiction   \n",
       "18             False  18659415  4e652faa682edfcb0c0e1effdd1f8e58  fiction   \n",
       "32             False   6411961  d44b6d28f456dbcc5b1537b4c5572400  fiction   \n",
       "47             False    119322  111b958d9d8b5132be5e0c63399d1839  fantasy   \n",
       "50             False    128029  172eea9d13272fc7ae6c34ca356496bc  fiction   \n",
       "...              ...       ...                               ...      ...   \n",
       "1377935        False  27362503  0e6dab8caab646ef4a8e815ea668a6ad  romance   \n",
       "1377951        False   1933181  e35c5645cf248bc011e54e13feeeeb72  fiction   \n",
       "1377988         True  11333587  1f0e2fab064b03f22baffd6579641000  fiction   \n",
       "1377999        False   9460487  c510f095a02e00300ccbd2475f78a790  fantasy   \n",
       "1378010        False     15241  91357847543b13fc5e233fdf8493a9ae  fantasy   \n",
       "\n",
       "                                               description  publication_year  \\\n",
       "4        A major new novel from one of science fiction'...               NaN   \n",
       "18       The Circleis the exhilarating new novel from D...               NaN   \n",
       "32       WHAT IS LOST...\\nWILL BE FOUND\\nIn this stunni...               NaN   \n",
       "47       Here lives an orphaned ward named Lyra Belacqu...               NaN   \n",
       "50       At once an incredible chronicle of thirty year...               NaN   \n",
       "...                                                    ...               ...   \n",
       "1377935  SOMETIMES THE ONE WHO LOVES YOU IS THE ONE WHO...               NaN   \n",
       "1377951  Following the tremendous success of her first ...               NaN   \n",
       "1377988  It's the year 2044, and the real world is an u...               NaN   \n",
       "1377999  A mysterious island. An abandoned orphanage. A...               NaN   \n",
       "1378010  The Fellowship was scattered. Some were bracin...               NaN   \n",
       "\n",
       "         ratings_count                              review_sentences_join  \n",
       "4                 1659  I really enjoyed this book, and there is a lot...  \n",
       "18               10458  The Circle is a new bay area company, but is r...  \n",
       "32              377017  ** spoiler alert **Critics aside, Dan Brown ca...  \n",
       "47              973154  Loved every second, and didn't want it to end,...  \n",
       "50              835172  I'm not sure if I love Khaled's characters (se...  \n",
       "...                ...                                                ...  \n",
       "1377935          88278  I have to say that this isn't a book I'd norma...  \n",
       "1377951          20560  I don't know why it took me so much time to re...  \n",
       "1377988           1091  This was an interesting reading experience.For...  \n",
       "1377999         641884  I've just started, but I have to say I'm impre...  \n",
       "1378010         490005  I finished the first half but in the time it t...  \n",
       "\n",
       "[140314 rows x 12 columns]"
      ]
     },
     "execution_count": 8,
     "metadata": {},
     "output_type": "execute_result"
    }
   ],
   "source": [
    "df_final[df_final.isna().any(axis=1)]\n",
    "#drop publication year"
   ]
  },
  {
   "cell_type": "code",
   "execution_count": 14,
   "metadata": {},
   "outputs": [
    {
     "data": {
      "text/plain": [
       "7045"
      ]
     },
     "execution_count": 14,
     "metadata": {},
     "output_type": "execute_result"
    }
   ],
   "source": [
    "# null descriptions or no descriptions\n",
    "len(df_final[df_final['description'].isna()])\n"
   ]
  },
  {
   "cell_type": "code",
   "execution_count": 17,
   "metadata": {},
   "outputs": [],
   "source": [
    "df_final['description'].fillna('' , inplace = True)"
   ]
  },
  {
   "cell_type": "code",
   "execution_count": 18,
   "metadata": {},
   "outputs": [],
   "source": [
    "len_desc = df_final['description'].apply(lambda x : len(x))"
   ]
  },
  {
   "cell_type": "code",
   "execution_count": 19,
   "metadata": {},
   "outputs": [
    {
     "data": {
      "text/plain": [
       "0           679\n",
       "1           973\n",
       "2          1260\n",
       "3          1550\n",
       "4           349\n",
       "           ... \n",
       "1378027     424\n",
       "1378028    1108\n",
       "1378029     627\n",
       "1378030    1593\n",
       "1378031    1079\n",
       "Name: description, Length: 1378032, dtype: int64"
      ]
     },
     "execution_count": 19,
     "metadata": {},
     "output_type": "execute_result"
    }
   ],
   "source": [
    "len_desc"
   ]
  },
  {
   "cell_type": "code",
   "execution_count": 23,
   "metadata": {},
   "outputs": [
    {
     "data": {
      "image/png": "[encoded data removed]",
      "text/plain": [
       "<Figure size 432x288 with 1 Axes>"
      ]
     },
     "metadata": {
      "needs_background": "light"
     },
     "output_type": "display_data"
    }
   ],
   "source": [
    "import matplotlib.pyplot as plt\n",
    "plt.hist(len_desc)\n",
    "# show plot\n",
    "plt.show()"
   ]
  },
  {
   "cell_type": "code",
   "execution_count": 24,
   "metadata": {},
   "outputs": [
    {
     "data": {
      "image/png": "[encoded data removed]",
      "text/plain": [
       "<Figure size 432x288 with 1 Axes>"
      ]
     },
     "metadata": {
      "needs_background": "light"
     },
     "output_type": "display_data"
    }
   ],
   "source": [
    "plt.boxplot(len_desc)\n",
    "# show plot\n",
    "plt.show()"
   ]
  },
  {
   "cell_type": "code",
   "execution_count": 26,
   "metadata": {},
   "outputs": [
    {
     "data": {
      "image/png": "[encoded data removed]",
      "text/plain": [
       "<Figure size 432x288 with 1 Axes>"
      ]
     },
     "metadata": {
      "needs_background": "light"
     },
     "output_type": "display_data"
    }
   ],
   "source": [
    "plt.hist(df_final['ratings_count'])\n",
    "# show plot\n",
    "plt.show()"
   ]
  },
  {
   "cell_type": "code",
   "execution_count": 27,
   "metadata": {},
   "outputs": [
    {
     "data": {
      "image/png": "[encoded data removed]",
      "text/plain": [
       "<Figure size 432x288 with 1 Axes>"
      ]
     },
     "metadata": {
      "needs_background": "light"
     },
     "output_type": "display_data"
    }
   ],
   "source": [
    "plt.boxplot(df_final['ratings_count'])\n",
    "# show plot\n",
    "plt.show()"
   ]
  },
  {
   "cell_type": "code",
   "execution_count": 28,
   "metadata": {},
   "outputs": [
    {
     "data": {
      "text/html": [
       "<div>\n",
       "<style scoped>\n",
       "    .dataframe tbody tr th:only-of-type {\n",
       "        vertical-align: middle;\n",
       "    }\n",
       "\n",
       "    .dataframe tbody tr th {\n",
       "        vertical-align: top;\n",
       "    }\n",
       "\n",
       "    .dataframe thead th {\n",
       "        text-align: right;\n",
       "    }\n",
       "</style>\n",
       "<table border=\"1\" class=\"dataframe\">\n",
       "  <thead>\n",
       "    <tr style=\"text-align: right;\">\n",
       "      <th></th>\n",
       "      <th>rating</th>\n",
       "      <th>book_id</th>\n",
       "      <th>publication_year</th>\n",
       "      <th>ratings_count</th>\n",
       "    </tr>\n",
       "  </thead>\n",
       "  <tbody>\n",
       "    <tr>\n",
       "      <th>count</th>\n",
       "      <td>1.378032e+06</td>\n",
       "      <td>1.378032e+06</td>\n",
       "      <td>1.241707e+06</td>\n",
       "      <td>1.378032e+06</td>\n",
       "    </tr>\n",
       "    <tr>\n",
       "      <th>mean</th>\n",
       "      <td>3.685078e+00</td>\n",
       "      <td>1.335895e+07</td>\n",
       "      <td>2.011079e+03</td>\n",
       "      <td>1.238979e+05</td>\n",
       "    </tr>\n",
       "    <tr>\n",
       "      <th>std</th>\n",
       "      <td>1.252455e+00</td>\n",
       "      <td>9.260207e+06</td>\n",
       "      <td>1.007271e+01</td>\n",
       "      <td>3.930010e+05</td>\n",
       "    </tr>\n",
       "    <tr>\n",
       "      <th>min</th>\n",
       "      <td>0.000000e+00</td>\n",
       "      <td>1.000000e+00</td>\n",
       "      <td>1.600000e+01</td>\n",
       "      <td>1.700000e+01</td>\n",
       "    </tr>\n",
       "    <tr>\n",
       "      <th>25%</th>\n",
       "      <td>3.000000e+00</td>\n",
       "      <td>6.393872e+06</td>\n",
       "      <td>2.010000e+03</td>\n",
       "      <td>4.166000e+03</td>\n",
       "    </tr>\n",
       "    <tr>\n",
       "      <th>50%</th>\n",
       "      <td>4.000000e+00</td>\n",
       "      <td>1.336254e+07</td>\n",
       "      <td>2.012000e+03</td>\n",
       "      <td>1.636100e+04</td>\n",
       "    </tr>\n",
       "    <tr>\n",
       "      <th>75%</th>\n",
       "      <td>5.000000e+00</td>\n",
       "      <td>2.029968e+07</td>\n",
       "      <td>2.014000e+03</td>\n",
       "      <td>6.995500e+04</td>\n",
       "    </tr>\n",
       "    <tr>\n",
       "      <th>max</th>\n",
       "      <td>5.000000e+00</td>\n",
       "      <td>3.632868e+07</td>\n",
       "      <td>2.089000e+03</td>\n",
       "      <td>4.899965e+06</td>\n",
       "    </tr>\n",
       "  </tbody>\n",
       "</table>\n",
       "</div>"
      ],
      "text/plain": [
       "             rating       book_id  publication_year  ratings_count\n",
       "count  1.378032e+06  1.378032e+06      1.241707e+06   1.378032e+06\n",
       "mean   3.685078e+00  1.335895e+07      2.011079e+03   1.238979e+05\n",
       "std    1.252455e+00  9.260207e+06      1.007271e+01   3.930010e+05\n",
       "min    0.000000e+00  1.000000e+00      1.600000e+01   1.700000e+01\n",
       "25%    3.000000e+00  6.393872e+06      2.010000e+03   4.166000e+03\n",
       "50%    4.000000e+00  1.336254e+07      2.012000e+03   1.636100e+04\n",
       "75%    5.000000e+00  2.029968e+07      2.014000e+03   6.995500e+04\n",
       "max    5.000000e+00  3.632868e+07      2.089000e+03   4.899965e+06"
      ]
     },
     "execution_count": 28,
     "metadata": {},
     "output_type": "execute_result"
    }
   ],
   "source": [
    "df_final.describe()"
   ]
  },
  {
   "cell_type": "code",
   "execution_count": 30,
   "metadata": {},
   "outputs": [
    {
     "name": "stdout",
     "output_type": "stream",
     "text": [
      "<class 'pandas.core.frame.DataFrame'>\n",
      "RangeIndex: 1378032 entries, 0 to 1378031\n",
      "Data columns (total 12 columns):\n",
      " #   Column                 Non-Null Count    Dtype  \n",
      "---  ------                 --------------    -----  \n",
      " 0   user_id                1378032 non-null  object \n",
      " 1   timestamp              1378032 non-null  object \n",
      " 2   review_sentences       1378032 non-null  object \n",
      " 3   rating                 1378032 non-null  int64  \n",
      " 4   has_spoiler            1378032 non-null  bool   \n",
      " 5   book_id                1378032 non-null  int64  \n",
      " 6   review_id              1378032 non-null  object \n",
      " 7   genre                  1378032 non-null  object \n",
      " 8   description            1378032 non-null  object \n",
      " 9   publication_year       1241707 non-null  float64\n",
      " 10  ratings_count          1378032 non-null  int64  \n",
      " 11  review_sentences_join  1378032 non-null  object \n",
      "dtypes: bool(1), float64(1), int64(3), object(7)\n",
      "memory usage: 117.0+ MB\n"
     ]
    }
   ],
   "source": [
    "df_final.info()"
   ]
  },
  {
   "cell_type": "code",
   "execution_count": 33,
   "metadata": {},
   "outputs": [
    {
     "data": {
      "text/plain": [
       "<AxesSubplot:xlabel='genre', ylabel='Count'>"
      ]
     },
     "execution_count": 33,
     "metadata": {},
     "output_type": "execute_result"
    },
    {
     "data": {
      "image/png": "[encoded data removed]",
      "text/plain": [
       "<Figure size 432x288 with 1 Axes>"
      ]
     },
     "metadata": {
      "needs_background": "light"
     },
     "output_type": "display_data"
    }
   ],
   "source": [
    "# Bivariate analysis\n",
    "# genre and target\n",
    "import seaborn as sns\n",
    "import matplotlib.pyplot as plt\n",
    "%matplotlib inline\n",
    "\n",
    "sns.histplot(binwidth=0.5, x=\"genre\", hue=\"has_spoiler\", data=df_final, stat=\"count\", multiple=\"stack\")"
   ]
  },
  {
   "cell_type": "code",
   "execution_count": 34,
   "metadata": {},
   "outputs": [
    {
     "data": {
      "text/plain": [
       "<AxesSubplot:xlabel='rating', ylabel='Count'>"
      ]
     },
     "execution_count": 34,
     "metadata": {},
     "output_type": "execute_result"
    },
    {
     "data": {
      "image/png": "[encoded data removed]",
      "text/plain": [
       "<Figure size 432x288 with 1 Axes>"
      ]
     },
     "metadata": {
      "needs_background": "light"
     },
     "output_type": "display_data"
    }
   ],
   "source": [
    "sns.histplot(binwidth=0.5, x=\"rating\", hue=\"has_spoiler\", data=df_final, stat=\"count\", multiple=\"stack\")"
   ]
  },
  {
   "cell_type": "code",
   "execution_count": null,
   "metadata": {},
   "outputs": [],
   "source": []
  }
 ],
 "metadata": {
  "interpreter": {
   "hash": "4776eb30a046ab6d0c3e65f56044d961f6878ebd8f8cbdf1a791b04d1d0b3d44"
  },
  "kernelspec": {
   "display_name": "Python 3.9.13 64-bit (windows store)",
   "language": "python",
   "name": "python3"
  },
  "language_info": {
   "codemirror_mode": {
    "name": "ipython",
    "version": 3
   },
   "file_extension": ".py",
   "mimetype": "text/x-python",
   "name": "python",
   "nbconvert_exporter": "python",
   "pygments_lexer": "ipython3",
   "version": "3.9.13"
  },
  "orig_nbformat": 4
 },
 "nbformat": 4,
 "nbformat_minor": 2
}
